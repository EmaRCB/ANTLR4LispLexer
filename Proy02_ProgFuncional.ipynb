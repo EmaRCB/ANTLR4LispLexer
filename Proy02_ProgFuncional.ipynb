{
 "cells": [
  {
   "cell_type": "markdown",
   "id": "08905418",
   "metadata": {},
   "source": [
    "### Proyecto 02 - Teoria de Lenguajes de la Programación\n",
    "\n",
    "\n",
    "Integrantes:\n",
    "\n",
    "- Emanuel Rafael Chávez Bagundo\n",
    "- Karyme Maylin Bautista Poot"
   ]
  },
  {
   "cell_type": "markdown",
   "id": "462dbb4a",
   "metadata": {},
   "source": [
    "### Ejercicio 1: Defina la función B que calcule los coeficientes binomiales B(n,k) = n!/((n-k)!*k! para n>=0, y 0<=k<=n\n",
    "\n",
    "Entradas permitidas:\n",
    "* El argumento n debe ser mayor a cero\n",
    "* El argumento k debe ser mayor a cero pero menor a n"
   ]
  },
  {
   "cell_type": "code",
   "execution_count": 1,
   "id": "4b202811",
   "metadata": {},
   "outputs": [],
   "source": [
    "(define (coefBin n k)\n",
    "  (cond\n",
    "    [(< n 0) (error \"n is less than 0\")]\n",
    "    [(or (< k 0) (> k n)) (error \"Incorrect Range for k\")]\n",
    "    [else (/ (factorial n) (* (factorial (- n k)) (factorial k)))]\n",
    "  )\n",
    ")\n",
    "\n",
    "(define (factorial n)\n",
    "  (cond\n",
    "    [(= n 0) 1]\n",
    "    [(= n 1) 1]\n",
    "    [else\n",
    "     (* n (factorial (- n 1)))]\n",
    "))"
   ]
  },
  {
   "cell_type": "markdown",
   "id": "3acc547f",
   "metadata": {},
   "source": [
    "Entradas permitidas:"
   ]
  },
  {
   "cell_type": "code",
   "execution_count": 6,
   "id": "1c1b925f",
   "metadata": {},
   "outputs": [
    {
     "data": {
      "text/html": [
       "<code>163011640</code>"
      ],
      "text/plain": [
       "163011640"
      ]
     },
     "execution_count": 6,
     "metadata": {},
     "output_type": "execute_result"
    }
   ],
   "source": [
    "(coefBin 38 9)"
   ]
  },
  {
   "cell_type": "code",
   "execution_count": 7,
   "id": "65d42ea4",
   "metadata": {},
   "outputs": [
    {
     "name": "stderr",
     "output_type": "stream",
     "text": [
      "n is less than 0\n",
      "  context...:\n",
      "   body of top-level\n"
     ]
    }
   ],
   "source": [
    "(coefBin -2 3)"
   ]
  },
  {
   "cell_type": "code",
   "execution_count": 8,
   "id": "bef127f6",
   "metadata": {},
   "outputs": [
    {
     "name": "stderr",
     "output_type": "stream",
     "text": [
      "Incorrect Range for k\n",
      "  context...:\n",
      "   body of top-level\n"
     ]
    }
   ],
   "source": [
    "(coefBin 9 38)"
   ]
  },
  {
   "cell_type": "markdown",
   "id": "2437675d",
   "metadata": {},
   "source": [
    "### Ejercicio 2: Defina una función para la evaluación del número combinatorio C(n,k), que utiliza la definición recursiva. \n",
    "##### C(n,0) = 1, C(n,n) = 1\n",
    "##### C(n,k) = C(n-1,k-1) + C(n-1,k), n>=0,k>=0, n>=k\n",
    "Entradas permitidas:\n",
    "* El argumento n debe ser mayor a cero y mayor al argumento k\n",
    "* El argumento k debe ser mayor a cero"
   ]
  },
  {
   "cell_type": "code",
   "execution_count": 3,
   "id": "fcbf21fd",
   "metadata": {},
   "outputs": [],
   "source": [
    "(define (Combinatoria n k)\n",
    "   (cond\n",
    "    [(= k 0) 1]\n",
    "    [(= n k) 1]\n",
    "    [else\n",
    "      (if (< n k) (error \"Error: n is less than k\") \n",
    "      (+ (/ (factorial (- n 1)) (* (factorial (- k 1)) (factorial (-  (- n 1)   (- k 1) )))) (/ (factorial (- n 1)) (* (factorial k) (factorial (-  (- n 1) k ))))))]\n",
    "    )\n",
    "   )"
   ]
  },
  {
   "cell_type": "markdown",
   "id": "e9245792",
   "metadata": {},
   "source": [
    "Entradas permitidas:"
   ]
  },
  {
   "cell_type": "code",
   "execution_count": 4,
   "id": "7ca73de0",
   "metadata": {},
   "outputs": [
    {
     "name": "stderr",
     "output_type": "stream",
     "text": [
      "Error: n is less than k\n",
      "  context...:\n",
      "   body of top-level\n"
     ]
    }
   ],
   "source": [
    "(Combinatoria 3 4)"
   ]
  },
  {
   "cell_type": "code",
   "execution_count": 5,
   "id": "38b62767",
   "metadata": {},
   "outputs": [
    {
     "data": {
      "text/html": [
       "<code>4</code>"
      ],
      "text/plain": [
       "4"
      ]
     },
     "execution_count": 5,
     "metadata": {},
     "output_type": "execute_result"
    }
   ],
   "source": [
    "(Combinatoria 4 3)"
   ]
  },
  {
   "cell_type": "markdown",
   "id": "da556a39",
   "metadata": {},
   "source": [
    "### Ejercicio 3: Defina una función recursiva para calcular el Máximo Común Divisor de dos \n",
    "### enteros negativos a y b con a < b usando el hecho de que MCD(a, b) = MCD(a, b-a)\n",
    "Entradas permitidas:\n",
    "- El argumento a debe ser un entero negativo y menor al argumento b\n",
    "- El argumento b debe ser un entero negativo"
   ]
  },
  {
   "cell_type": "markdown",
   "id": "9107b476",
   "metadata": {},
   "source": [
    "### Ejercicio 4: Definir una función que devuelva, en una lista, todos los números primos desde un \n",
    "### número inicial hasta un número final\n",
    "Entradas permitidas:\n",
    "- El argumento a debe ser un numero entero\n",
    "- El argumento b debe ser un numero entero y debe ser mayor al argumento a"
   ]
  },
  {
   "cell_type": "markdown",
   "id": "8651d95d",
   "metadata": {},
   "source": [
    "### Ejercicio 5: Realizar una función para hallar el valor de e definiéndola como sigue\n",
    "$$ \\frac{1}{0!} + \\frac{1}{1!} + \\frac{1}{2!} + ... $$\n",
    "Entradas permitidas:\n",
    "- El argumento n debe ser un entero positivo"
   ]
  },
  {
   "cell_type": "code",
   "execution_count": 9,
   "id": "9fed312e",
   "metadata": {},
   "outputs": [],
   "source": [
    "(define (SumaFactorial n)\n",
    "    (if (<= n 0) (factorial 0)\n",
    "     (+ (/ 1 (factorial n)) (SumaFactorial (- n 1)))\n",
    "     )\n",
    "  )"
   ]
  },
  {
   "cell_type": "markdown",
   "id": "6cd7492c",
   "metadata": {},
   "source": [
    "Entradas permitidas:"
   ]
  },
  {
   "cell_type": "code",
   "execution_count": 11,
   "id": "aa954814",
   "metadata": {},
   "outputs": [
    {
     "data": {
      "text/html": [
       "<code>8/3</code>"
      ],
      "text/plain": [
       "8/3"
      ]
     },
     "execution_count": 11,
     "metadata": {},
     "output_type": "execute_result"
    }
   ],
   "source": [
    "(SumaFactorial 3)"
   ]
  },
  {
   "cell_type": "code",
   "execution_count": 12,
   "id": "b5919660",
   "metadata": {},
   "outputs": [
    {
     "data": {
      "text/html": [
       "<code>2</code>"
      ],
      "text/plain": [
       "2"
      ]
     },
     "execution_count": 12,
     "metadata": {},
     "output_type": "execute_result"
    }
   ],
   "source": [
    "(SumaFactorial 1)"
   ]
  },
  {
   "cell_type": "code",
   "execution_count": 13,
   "id": "71acb4b4",
   "metadata": {},
   "outputs": [
    {
     "data": {
      "text/html": [
       "<code>6613313319248080001/2432902008176640000</code>"
      ],
      "text/plain": [
       "6613313319248080001/2432902008176640000"
      ]
     },
     "execution_count": 13,
     "metadata": {},
     "output_type": "execute_result"
    }
   ],
   "source": [
    "(SumaFactorial 20)"
   ]
  },
  {
   "cell_type": "markdown",
   "id": "ddc89b6b",
   "metadata": {},
   "source": [
    "### Ejercicio 6: Realizar una función que indique la longitud de una lista\n",
    "Entradas permitidas:\n",
    "- El argumento lista debe ser una lista de números"
   ]
  },
  {
   "cell_type": "code",
   "execution_count": 14,
   "id": "fcb39569",
   "metadata": {},
   "outputs": [],
   "source": [
    "(define (len lista)\n",
    "  (if (null? lista) 0\n",
    "      (+ 1 (len (cdr lista)))\n",
    "  )\n",
    "  )"
   ]
  },
  {
   "cell_type": "markdown",
   "id": "733dfbaa",
   "metadata": {},
   "source": [
    "Entradas permitidas:"
   ]
  },
  {
   "cell_type": "code",
   "execution_count": 15,
   "id": "436d9bf3",
   "metadata": {},
   "outputs": [
    {
     "data": {
      "text/html": [
       "<code>3</code>"
      ],
      "text/plain": [
       "3"
      ]
     },
     "execution_count": 15,
     "metadata": {},
     "output_type": "execute_result"
    }
   ],
   "source": [
    "(len '(2 3 4))"
   ]
  },
  {
   "cell_type": "code",
   "execution_count": 16,
   "id": "98c94a5e",
   "metadata": {},
   "outputs": [
    {
     "data": {
      "text/html": [
       "<code>5</code>"
      ],
      "text/plain": [
       "5"
      ]
     },
     "execution_count": 16,
     "metadata": {},
     "output_type": "execute_result"
    }
   ],
   "source": [
    "(len '(3 4 5 6 7))"
   ]
  },
  {
   "cell_type": "code",
   "execution_count": 17,
   "id": "bdb21838",
   "metadata": {},
   "outputs": [
    {
     "data": {
      "text/html": [
       "<code>0</code>"
      ],
      "text/plain": [
       "0"
      ]
     },
     "execution_count": 17,
     "metadata": {},
     "output_type": "execute_result"
    }
   ],
   "source": [
    "(len '())"
   ]
  },
  {
   "cell_type": "markdown",
   "id": "7c67d310",
   "metadata": {},
   "source": [
    "### Ejercicio 7: Realizar una función para buscar un elemento en una lista, regresar #t si lo encontró \n",
    "### y #f si no lo encontró.\n",
    "Entradas permitidas:\n",
    "- El argumento lista debe ser una lista de números\n",
    "- El argumento elem debe ser un número entero"
   ]
  },
  {
   "cell_type": "code",
   "execution_count": 18,
   "id": "05583cbc",
   "metadata": {},
   "outputs": [],
   "source": [
    "(define (buscar lista elem)\n",
    "  (if (null? lista) #f\n",
    "      (if (equal?(car lista) elem) #t\n",
    "          (buscar (cdr lista) elem\n",
    "               )\n",
    "          )\n",
    "      )\n",
    "  )"
   ]
  },
  {
   "cell_type": "markdown",
   "id": "129b1599",
   "metadata": {},
   "source": [
    "Entradas permitidas:"
   ]
  },
  {
   "cell_type": "code",
   "execution_count": 19,
   "id": "5f0c2c31",
   "metadata": {},
   "outputs": [
    {
     "data": {
      "text/html": [
       "<code>#t</code>"
      ],
      "text/plain": [
       "#t"
      ]
     },
     "execution_count": 19,
     "metadata": {},
     "output_type": "execute_result"
    }
   ],
   "source": [
    "(buscar '(2 3 4) 3)"
   ]
  },
  {
   "cell_type": "code",
   "execution_count": 20,
   "id": "c067b610",
   "metadata": {},
   "outputs": [
    {
     "data": {
      "text/html": [
       "<code>#f</code>"
      ],
      "text/plain": [
       "#f"
      ]
     },
     "execution_count": 20,
     "metadata": {},
     "output_type": "execute_result"
    }
   ],
   "source": [
    "(buscar '(2 4 6 7) 9)"
   ]
  },
  {
   "cell_type": "markdown",
   "id": "42f7c5ab",
   "metadata": {},
   "source": [
    "### Ejercicio 8:  Realizar una función recursiva en Lisp que invierta una lista.\n",
    "Entradas permitidas:\n",
    "- El argumento lista debe ser una lista de números"
   ]
  },
  {
   "cell_type": "code",
   "execution_count": 21,
   "id": "b1f7d3b8",
   "metadata": {},
   "outputs": [],
   "source": [
    "(define (reverse lst)\n",
    "  (if (null? lst) null\n",
    "    (append (reverse (cdr lst)) (list (car lst)))))\n",
    "\n",
    "(define (append l1 l2)\n",
    "  (if (null? l1) l2\n",
    "      (cons (car l1) (append (cdr l1) l2))))"
   ]
  },
  {
   "cell_type": "markdown",
   "id": "90ea9cc1",
   "metadata": {},
   "source": [
    "Entradas permitidas"
   ]
  },
  {
   "cell_type": "code",
   "execution_count": 22,
   "id": "50a574f7",
   "metadata": {},
   "outputs": [
    {
     "data": {
      "text/html": [
       "<code>'(4 3 2 1)</code>"
      ],
      "text/plain": [
       "'(4 3 2 1)"
      ]
     },
     "execution_count": 22,
     "metadata": {},
     "output_type": "execute_result"
    }
   ],
   "source": [
    "(reverse '(1 2 3 4))"
   ]
  },
  {
   "cell_type": "code",
   "execution_count": 23,
   "id": "6b27afa4",
   "metadata": {},
   "outputs": [
    {
     "data": {
      "text/html": [
       "<code>'(8 4 3 2 9)</code>"
      ],
      "text/plain": [
       "'(8 4 3 2 9)"
      ]
     },
     "execution_count": 23,
     "metadata": {},
     "output_type": "execute_result"
    }
   ],
   "source": [
    "(reverse '(9 2 3 4 8))"
   ]
  },
  {
   "cell_type": "code",
   "execution_count": 24,
   "id": "418ba4bb",
   "metadata": {},
   "outputs": [
    {
     "data": {
      "text/html": [
       "<code>'(2 9)</code>"
      ],
      "text/plain": [
       "'(2 9)"
      ]
     },
     "execution_count": 24,
     "metadata": {},
     "output_type": "execute_result"
    }
   ],
   "source": [
    "(reverse '(9 2))"
   ]
  },
  {
   "cell_type": "markdown",
   "id": "72ccadb3",
   "metadata": {},
   "source": [
    "### Ejercicio 9: Realizar una función que elimine un elemento de una lista.\n",
    "Entradas permitidas:\n",
    "- El argumento item debe ser un número entero\n",
    "- El argumento lista debe ser una lista de números"
   ]
  },
  {
   "cell_type": "code",
   "execution_count": 25,
   "id": "a439ed5a",
   "metadata": {},
   "outputs": [],
   "source": [
    "(define (elimina item lst)\n",
    "  (cond ((null? lst)\n",
    "         '())\n",
    "        ((equal? item (car lst))\n",
    "         (cdr lst))\n",
    "        (else\n",
    "         (cons (car lst) \n",
    "               (elimina item (cdr lst))))))"
   ]
  },
  {
   "cell_type": "markdown",
   "id": "a5375a2e",
   "metadata": {},
   "source": [
    "Entradas permitidas:"
   ]
  },
  {
   "cell_type": "code",
   "execution_count": 26,
   "id": "9dfaeceb",
   "metadata": {},
   "outputs": [
    {
     "data": {
      "text/html": [
       "<code>'(2 3 5)</code>"
      ],
      "text/plain": [
       "'(2 3 5)"
      ]
     },
     "execution_count": 26,
     "metadata": {},
     "output_type": "execute_result"
    }
   ],
   "source": [
    "(elimina 4 '(2 3 4 5))"
   ]
  },
  {
   "cell_type": "code",
   "execution_count": 29,
   "id": "3cadc5f1",
   "metadata": {},
   "outputs": [
    {
     "data": {
      "text/html": [
       "<code>'(3 3 5 8)</code>"
      ],
      "text/plain": [
       "'(3 3 5 8)"
      ]
     },
     "execution_count": 29,
     "metadata": {},
     "output_type": "execute_result"
    }
   ],
   "source": [
    "(elimina 2 '(3 3 5 8))"
   ]
  },
  {
   "cell_type": "markdown",
   "id": "95698455",
   "metadata": {},
   "source": [
    "### Ejercicio 10: Defina una función para calcular la desviación estándar de un conjunto de datos \n",
    "### (lista). La fórmula es la siguiente:\n",
    "$$ \\sqrt{\\frac{1}{n} \\sum\\limits _{i=1} ^{n}(x_1 - \\bar x)^2} $$ \n",
    "Entradas permitidas:\n",
    "- El argumento lista debe ser una lista de números"
   ]
  },
  {
   "cell_type": "code",
   "execution_count": 56,
   "id": "0dff0b8b",
   "metadata": {},
   "outputs": [],
   "source": [
    "(define (desvEst lst)\n",
    "  (sqrt (/ (sumLst lst) (len lst)))\n",
    "  )\n",
    "  \n",
    "(define (sumLst lst)\n",
    "  (cond\n",
    "    ([null? lst] 0)\n",
    "    ([list? (car lst)] (+ (* (- (car lst)(media lst)) (- (car lst)(media lst)) ) (suma (cdr lst))))\n",
    "    (else (+ (* (- (car lst)(media lst)) (- (car lst)(media lst)) ) (sumLst (cdr lst))))\n",
    "   )\n",
    ")\n",
    "\n",
    "(define (media lst)\n",
    "  (/ (suma lst) (len lst))\n",
    " )\n",
    "\n",
    "\n",
    "(define (suma lst)\n",
    "  (cond\n",
    "    ([null? lst] 0)\n",
    "    ([list? (car lst)] (+ (suma (car lst)) (suma (cdr lst))))\n",
    "    (else (+ (car lst)(suma (cdr lst))))\n",
    "   )\n",
    " )\n"
   ]
  },
  {
   "cell_type": "markdown",
   "id": "42a437e7",
   "metadata": {},
   "source": [
    "Entradas permitidas:"
   ]
  },
  {
   "cell_type": "code",
   "execution_count": 57,
   "id": "cc7d4aa5",
   "metadata": {},
   "outputs": [
    {
     "data": {
      "text/html": [
       "<code>1.5811388300841898</code>"
      ],
      "text/plain": [
       "1.5811388300841898"
      ]
     },
     "execution_count": 57,
     "metadata": {},
     "output_type": "execute_result"
    }
   ],
   "source": [
    "(desvEst '(6 2 3 1))"
   ]
  },
  {
   "cell_type": "code",
   "execution_count": 59,
   "id": "11dd3b9c",
   "metadata": {},
   "outputs": [
    {
     "data": {
      "text/html": [
       "<code>1.2909944487358056</code>"
      ],
      "text/plain": [
       "1.2909944487358056"
      ]
     },
     "execution_count": 59,
     "metadata": {},
     "output_type": "execute_result"
    }
   ],
   "source": [
    "(desvEst '(3 5 7))"
   ]
  }
 ],
 "metadata": {
  "kernelspec": {
   "display_name": "Racket",
   "language": "racket",
   "name": "racket"
  },
  "language_info": {
   "codemirror_mode": "scheme",
   "file_extension": ".rkt",
   "mimetype": "text/x-racket",
   "name": "Racket",
   "pygments_lexer": "racket",
   "version": "8.4"
  }
 },
 "nbformat": 4,
 "nbformat_minor": 5
}
